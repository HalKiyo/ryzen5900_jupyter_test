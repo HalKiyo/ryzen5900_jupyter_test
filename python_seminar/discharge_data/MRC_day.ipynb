{
 "cells": [
  {
   "cell_type": "code",
   "execution_count": 4,
   "id": "8696958d",
   "metadata": {
    "slideshow": {
     "slide_type": "skip"
    }
   },
   "outputs": [],
   "source": [
    "import os\n",
    "import glob\n",
    "import numpy as np\n",
    "import pandas as pd\n",
    "from datetime import datetime, timedelta"
   ]
  },
  {
   "cell_type": "markdown",
   "id": "a5118c89",
   "metadata": {
    "slideshow": {
     "slide_type": "slide"
    }
   },
   "source": [
    "### csvファイルの読み込み\n",
    " - filenameのパスはそれぞれファイルが保存されている部分を指定してください"
   ]
  },
  {
   "cell_type": "code",
   "execution_count": 5,
   "id": "8ab8e3d4",
   "metadata": {
    "slideshow": {
     "slide_type": "-"
    }
   },
   "outputs": [],
   "source": [
    "def load_csv(filename):\n",
    "    data = pd.read_csv(filename, header=None)\n",
    "    \n",
    "    return data"
   ]
  },
  {
   "cell_type": "code",
   "execution_count": 6,
   "id": "027946de",
   "metadata": {
    "scrolled": false,
    "slideshow": {
     "slide_type": "-"
    }
   },
   "outputs": [
    {
     "name": "stdout",
     "output_type": "stream",
     "text": [
      "        0      1   2  3                          4       5       6   7\n",
      "0      KH  14501  QH  M  1910-01-01T07:00:00+07:00  5988.0  m3\\sec   O\n",
      "1      KH  14501  QH  M  1910-01-02T07:00:00+07:00  5629.0  m3\\sec   O\n",
      "2      KH  14501  QH  M  1910-01-03T07:00:00+07:00  5413.0  m3\\sec   O\n",
      "3      KH  14501  QH  M  1910-01-04T07:00:00+07:00  5377.0  m3\\sec   O\n",
      "4      KH  14501  QH  M  1910-01-05T07:00:00+07:00  5222.0  m3\\sec   O\n",
      "...    ..    ...  .. ..                        ...     ...     ...  ..\n",
      "34694  KH  14501  QH  M  2004-12-27T07:00:00+07:00  4299.0  m3\\sec   O\n",
      "34695  KH  14501  QH  M  2004-12-28T07:00:00+07:00  4299.0  m3\\sec   O\n",
      "34696  KH  14501  QH  M  2004-12-29T07:00:00+07:00  4299.0  m3\\sec   O\n",
      "34697  KH  14501  QH  M  2004-12-30T07:00:00+07:00  4262.0  m3\\sec   O\n",
      "34698  KH  14501  QH  M  2004-12-31T07:00:00+07:00  4155.0  m3\\sec   O\n",
      "\n",
      "[34699 rows x 8 columns]\n"
     ]
    }
   ],
   "source": [
    "filename = '/docker/mnt/d/LM/Python_seminar/2022/discharge_data/MRCdata/MRC/KH_014501_M_QH_E03.csv'\n",
    "data = load_csv(filename)\n",
    "print(data)"
   ]
  },
  {
   "cell_type": "markdown",
   "id": "26f79682",
   "metadata": {
    "slideshow": {
     "slide_type": "slide"
    }
   },
   "source": [
    "### 保存用のnumpy.ndarrayを作成\n",
    "1. datetimeオブジェクトで1800/1/1から2039/12/31までの全カレンダーを取得\n",
    "2. .csvファイルの時間部分(index=4)の中の'年月日'部分を取り出す\n",
    "    - split(str): strで文字列を分割\n",
    "    - split後の前半([0])を取り出す\n",
    "3. date_begin, date_endを計算\n",
    "    - date_begin: .csvファイルの観測が存在する最初の年月日\n",
    "    - date_end: .csvファイルの観測が存在する最後の年月日\n",
    "    - strをdatetimeオブジェクトに変換し、1800/1/1からの日数に変換\n",
    "4. 保存用のnumpy.adarrayファイルを作成"
   ]
  },
  {
   "cell_type": "code",
   "execution_count": 7,
   "id": "577a3bc6",
   "metadata": {
    "slideshow": {
     "slide_type": "-"
    }
   },
   "outputs": [],
   "source": [
    "def make_npy(dt):\n",
    "    dt_s = datetime(1800, 1, 1)\n",
    "    dt_e = datetime(2039, 12,31)\n",
    "    delta = (dt_e - dt_s).days + 1\n",
    "    \n",
    "    dt_str1 = dt.iloc[0,4].split('T')[0]\n",
    "    date_begin = (datetime.strptime(dt_str1, '%Y-%m-%d') - dt_s).days\n",
    "    \n",
    "    dt_str2 = dt.iloc[-1,4].split('T')[0]\n",
    "    date_end = (datetime.strptime(dt_str2, '%Y-%m-%d') - dt_s).days\n",
    "    \n",
    "    npy = np.zeros((delta, 2), dtype=object)\n",
    "    \n",
    "    t = dt_s\n",
    "    \n",
    "    return t, date_begin, date_end, npy"
   ]
  },
  {
   "cell_type": "code",
   "execution_count": 8,
   "id": "85c2baac",
   "metadata": {
    "slideshow": {
     "slide_type": "-"
    }
   },
   "outputs": [
    {
     "name": "stdout",
     "output_type": "stream",
     "text": [
      "t: 1800-01-01 00:00:00, date_begin: 40176, date_end:74874\n"
     ]
    }
   ],
   "source": [
    "filename = '/docker/mnt/d/LM/Python_seminar/2022/discharge_data/MRCdata/MRC/KH_014501_M_QH_E03.csv'\n",
    "data = load_csv(filename)\n",
    "t, date_begin, date_end, npy = make_npy(data)\n",
    "print(f't: {t}, date_begin: {date_begin}, date_end:{date_end}')"
   ]
  },
  {
   "cell_type": "markdown",
   "id": "64ce982f",
   "metadata": {
    "slideshow": {
     "slide_type": "slide"
    }
   },
   "source": [
    "### 空numpy.ndarrayにデータを格納\n",
    "- loop(1): 観測が存在する最初の年までは-9999を格納\n",
    "- loop(2): 観測が存在する部分は、値が0以上なら観測値を格納\n",
    "- loop(3): 観測が存在する最後の年からnumpy.ndarrayの最後まで-9999を格納"
   ]
  },
  {
   "cell_type": "code",
   "execution_count": 9,
   "id": "fde09401",
   "metadata": {
    "slideshow": {
     "slide_type": "-"
    }
   },
   "outputs": [],
   "source": [
    "def insert_value(dt, t, date_begin, date_end, npy):\n",
    "    for i in range(date_begin):\n",
    "        npy[i,0] = t.strftime(\"%Y-%m-%d\")\n",
    "        npy[i,1] = -9999\n",
    "        \n",
    "        t += timedelta(days=1)\n",
    "        \n",
    "    for i in range(date_begin, date_end):\n",
    "        value = dt.iloc[i - date_begin, 5]\n",
    "        npy[i,0] = t.strftime(\"%Y-%m-%d\")\n",
    "        \n",
    "        if value >= 0:\n",
    "            npy[i, 1] = value\n",
    "        else:\n",
    "            npy[i,1] = -9999\n",
    "            \n",
    "        t += timedelta(days=1)\n",
    "        \n",
    "    for i in range(date_end, len(npy)):\n",
    "        npy[i,0] = t.strftime(\"%Y-%m-%d\")\n",
    "        npy[i,1] = -9999\n",
    "        \n",
    "        t += timedelta(days=1)\n",
    "        \n",
    "    return npy"
   ]
  },
  {
   "cell_type": "code",
   "execution_count": 10,
   "id": "9ccb39a5",
   "metadata": {
    "slideshow": {
     "slide_type": "-"
    }
   },
   "outputs": [
    {
     "name": "stdout",
     "output_type": "stream",
     "text": [
      "[['1800-01-01' -9999]\n",
      " ['1800-01-02' -9999]\n",
      " ['1800-01-03' -9999]\n",
      " ...\n",
      " ['2039-12-29' -9999]\n",
      " ['2039-12-30' -9999]\n",
      " ['2039-12-31' -9999]]\n"
     ]
    }
   ],
   "source": [
    "filename = '/docker/mnt/d/LM/Python_seminar/2022/discharge_data/MRCdata/MRC/KH_014501_M_QH_E03.csv'\n",
    "data = load_csv(filename)\n",
    "t, date_begin, date_end, npy = make_npy(data)\n",
    "npy = insert_value(data, t, date_begin, date_end, npy)\n",
    "print(npy)"
   ]
  },
  {
   "cell_type": "markdown",
   "id": "53ea8516",
   "metadata": {
    "slideshow": {
     "slide_type": "slide"
    }
   },
   "source": [
    "### 保存用のディレクトリを作成し、データを保存する\n",
    "- ディレクトリが存在しない場合は新規で作成する関数\n",
    "- 保存ファイル名は、\"国識別記号_観測値識別番号.csv\"とする"
   ]
  },
  {
   "cell_type": "code",
   "execution_count": 11,
   "id": "23896583",
   "metadata": {
    "slideshow": {
     "slide_type": "-"
    }
   },
   "outputs": [],
   "source": [
    "def my_makedirs(path):\n",
    "    if not os.path.isdir(path):\n",
    "        os.makedirs(path)\n",
    "        \n",
    "def save_csv(data, save_dir, filename):\n",
    "    data_pd = pd.DataFrame(data)\n",
    "    \n",
    "    my_makedirs(save_dir)\n",
    "    data_pd.to_csv(f'{save_dir}/{filename}', header=None, index=None)"
   ]
  },
  {
   "cell_type": "code",
   "execution_count": 12,
   "id": "7ff4b850",
   "metadata": {
    "slideshow": {
     "slide_type": "-"
    }
   },
   "outputs": [
    {
     "name": "stdout",
     "output_type": "stream",
     "text": [
      "save_dir: /docker/mnt/d/LM/Python_seminar/2022/discharge_data/MRCdata/Day_data\n",
      "output_f: KH_14501_DISCHARGE.csv\n"
     ]
    }
   ],
   "source": [
    "input_f = '/docker/mnt/d/LM/Python_seminar/2022/discharge_data/MRCdata/MRC/KH_014501_M_QH_E03.csv'\n",
    "save_dir = '/docker/mnt/d/LM/Python_seminar/2022/discharge_data/MRCdata/Day_data'\n",
    "data = load_csv(input_f)\n",
    "output_f = f'{data.iloc[0,0]}_{data.iloc[0,1]}_DISCHARGE.csv'\n",
    "\n",
    "print(f'save_dir: {save_dir}')\n",
    "print(f'output_f: {output_f}')\n",
    "\n",
    "t, date_begin, date_end, npy = make_npy(data)\n",
    "npy = insert_value(data, t, date_begin, date_end, npy)\n",
    "save_csv(npy, save_dir, output_f)"
   ]
  },
  {
   "cell_type": "markdown",
   "id": "65eba7f5",
   "metadata": {
    "slideshow": {
     "slide_type": "slide"
    }
   },
   "source": [
    "### 全データに対して実行\n",
    "- rootディレクトリを選択(適宜皆さんのデータがあるpathを選択してください）\n",
    "- root下に'Day_data'ディレクトリを新たに作成してください(save_csvにsave_dirを渡せば自動生成されます)\n",
    "- 入力データはファイル名に'QH'を含むもののみを扱います\n",
    "     - QH: 流量データ\n",
    "     - HH: 水位データ\n",
    "- 保存名の最後には流量データであることを明記します\"DISCHARGE\""
   ]
  },
  {
   "cell_type": "code",
   "execution_count": 13,
   "id": "015687cd",
   "metadata": {
    "slideshow": {
     "slide_type": "-"
    }
   },
   "outputs": [],
   "source": [
    "def main():\n",
    "    root = '/docker/mnt/d/LM/Python_seminar/2022/discharge_data/MRCdata'\n",
    "    save_dir = f'{root}/Day_data'\n",
    "    input_f = 'MRC/*_QH_*.csv'\n",
    "    \n",
    "    for x in glob.glob(f'{root}/{input_f}'):\n",
    "        data = load_csv(x)\n",
    "        t, date_begin, date_end, npy = make_npy(data)\n",
    "        npy = insert_value(data, t, date_begin, date_end, npy)\n",
    "        \n",
    "        output_f = f'{data.iloc[0,0]}_{data.iloc[0,1]}_DISCHARGE.csv'\n",
    "        save_csv(npy, save_dir, output_f)\n",
    "        \n",
    "        print(x)"
   ]
  },
  {
   "cell_type": "code",
   "execution_count": 14,
   "id": "b12f0172",
   "metadata": {
    "slideshow": {
     "slide_type": "-"
    }
   },
   "outputs": [
    {
     "name": "stdout",
     "output_type": "stream",
     "text": [
      "/docker/mnt/d/LM/Python_seminar/2022/discharge_data/MRCdata/MRC/KH_014501_M_QH_E03.csv\n",
      "/docker/mnt/d/LM/Python_seminar/2022/discharge_data/MRCdata/MRC/KH_014901_M_QH_E03.csv\n",
      "/docker/mnt/d/LM/Python_seminar/2022/discharge_data/MRCdata/MRC/KH_019801_M_QH_E03.csv\n",
      "/docker/mnt/d/LM/Python_seminar/2022/discharge_data/MRCdata/MRC/KH_019802_M_QH_E03.csv\n",
      "/docker/mnt/d/LM/Python_seminar/2022/discharge_data/MRCdata/MRC/KH_019806_M_QH_E03.csv\n",
      "/docker/mnt/d/LM/Python_seminar/2022/discharge_data/MRCdata/MRC/KH_020101_M_QH_E03.csv\n",
      "/docker/mnt/d/LM/Python_seminar/2022/discharge_data/MRCdata/MRC/KH_033401_M_QH_E03.csv\n",
      "/docker/mnt/d/LM/Python_seminar/2022/discharge_data/MRCdata/MRC/KH_033402_M_QH_E03.csv\n",
      "/docker/mnt/d/LM/Python_seminar/2022/discharge_data/MRCdata/MRC/KH_120423_M_QH_E03.csv\n",
      "/docker/mnt/d/LM/Python_seminar/2022/discharge_data/MRCdata/MRC/KH_430101_M_QH_E03.csv\n",
      "/docker/mnt/d/LM/Python_seminar/2022/discharge_data/MRCdata/MRC/KH_430102_M_QH_E03.csv\n",
      "/docker/mnt/d/LM/Python_seminar/2022/discharge_data/MRCdata/MRC/KH_430103_M_QH_E03.csv\n",
      "/docker/mnt/d/LM/Python_seminar/2022/discharge_data/MRCdata/MRC/KH_440101_M_QH_E03.csv\n",
      "/docker/mnt/d/LM/Python_seminar/2022/discharge_data/MRCdata/MRC/KH_440102_M_QH_E03.csv\n",
      "/docker/mnt/d/LM/Python_seminar/2022/discharge_data/MRCdata/MRC/KH_440103_M_QH_E03.csv\n",
      "/docker/mnt/d/LM/Python_seminar/2022/discharge_data/MRCdata/MRC/KH_450101_M_QH_E03.csv\n",
      "/docker/mnt/d/LM/Python_seminar/2022/discharge_data/MRCdata/MRC/KH_550103_M_QH_E03.csv\n",
      "/docker/mnt/d/LM/Python_seminar/2022/discharge_data/MRCdata/MRC/KH_551101_M_QH_E03.csv\n",
      "/docker/mnt/d/LM/Python_seminar/2022/discharge_data/MRCdata/MRC/KH_570101_M_QH_E03.csv\n",
      "/docker/mnt/d/LM/Python_seminar/2022/discharge_data/MRCdata/MRC/KH_580101_M_QH_E03.csv\n",
      "/docker/mnt/d/LM/Python_seminar/2022/discharge_data/MRCdata/MRC/KH_580102_M_QH_E03.csv\n",
      "/docker/mnt/d/LM/Python_seminar/2022/discharge_data/MRCdata/MRC/KH_580201_M_QH_E03.csv\n",
      "/docker/mnt/d/LM/Python_seminar/2022/discharge_data/MRCdata/MRC/KH_581102_M_QH_E03.csv\n",
      "/docker/mnt/d/LM/Python_seminar/2022/discharge_data/MRCdata/MRC/KH_583020_M_QH_E03.csv\n",
      "/docker/mnt/d/LM/Python_seminar/2022/discharge_data/MRCdata/MRC/KH_583101_M_QH_E03.csv\n",
      "/docker/mnt/d/LM/Python_seminar/2022/discharge_data/MRCdata/MRC/KH_590101_M_QH_E03.csv\n",
      "/docker/mnt/d/LM/Python_seminar/2022/discharge_data/MRCdata/MRC/KH_600101_M_QH_E03.csv\n",
      "/docker/mnt/d/LM/Python_seminar/2022/discharge_data/MRCdata/MRC/KH_610101_M_QH_E03.csv\n",
      "/docker/mnt/d/LM/Python_seminar/2022/discharge_data/MRCdata/MRC/KH_610102_M_QH_E03.csv\n",
      "/docker/mnt/d/LM/Python_seminar/2022/discharge_data/MRCdata/MRC/KH_620101_M_QH_E03.csv\n",
      "/docker/mnt/d/LM/Python_seminar/2022/discharge_data/MRCdata/MRC/KH_640101_M_QH_E03.csv\n",
      "/docker/mnt/d/LM/Python_seminar/2022/discharge_data/MRCdata/MRC/LA_011201_M_QH_E03.csv\n",
      "/docker/mnt/d/LM/Python_seminar/2022/discharge_data/MRCdata/MRC/LA_011901_M_QH_E03.csv\n",
      "/docker/mnt/d/LM/Python_seminar/2022/discharge_data/MRCdata/MRC/LA_013102_M_QH_E03.csv\n",
      "/docker/mnt/d/LM/Python_seminar/2022/discharge_data/MRCdata/MRC/LA_013401_M_QH_E03.csv\n",
      "/docker/mnt/d/LM/Python_seminar/2022/discharge_data/MRCdata/MRC/LA_013901_M_QH_E03.csv\n",
      "/docker/mnt/d/LM/Python_seminar/2022/discharge_data/MRCdata/MRC/LA_014301_M_QH_E03.csv\n",
      "/docker/mnt/d/LM/Python_seminar/2022/discharge_data/MRCdata/MRC/LA_100102_M_QH_E03.csv\n",
      "/docker/mnt/d/LM/Python_seminar/2022/discharge_data/MRCdata/MRC/LA_110101_M_QH_E03.csv\n",
      "/docker/mnt/d/LM/Python_seminar/2022/discharge_data/MRCdata/MRC/LA_110201_M_QH_E03.csv\n",
      "/docker/mnt/d/LM/Python_seminar/2022/discharge_data/MRCdata/MRC/LA_120101_M_QH_E03.csv\n",
      "/docker/mnt/d/LM/Python_seminar/2022/discharge_data/MRCdata/MRC/LA_120102_M_QH_E03.csv\n",
      "/docker/mnt/d/LM/Python_seminar/2022/discharge_data/MRCdata/MRC/LA_230101_M_QH_E03.csv\n",
      "/docker/mnt/d/LM/Python_seminar/2022/discharge_data/MRCdata/MRC/LA_230102_M_QH_E03.csv\n",
      "/docker/mnt/d/LM/Python_seminar/2022/discharge_data/MRCdata/MRC/LA_230104_M_QH_E03.csv\n",
      "/docker/mnt/d/LM/Python_seminar/2022/discharge_data/MRCdata/MRC/LA_230110_M_QH_E03.csv\n",
      "/docker/mnt/d/LM/Python_seminar/2022/discharge_data/MRCdata/MRC/LA_230112_M_QH_E03.csv\n",
      "/docker/mnt/d/LM/Python_seminar/2022/discharge_data/MRCdata/MRC/LA_230201_M_QH_E03.csv\n",
      "/docker/mnt/d/LM/Python_seminar/2022/discharge_data/MRCdata/MRC/LA_230205_M_QH_E03.csv\n",
      "/docker/mnt/d/LM/Python_seminar/2022/discharge_data/MRCdata/MRC/LA_230401_M_QH_E03.csv\n",
      "/docker/mnt/d/LM/Python_seminar/2022/discharge_data/MRCdata/MRC/LA_250101_M_QH_E03.csv\n",
      "/docker/mnt/d/LM/Python_seminar/2022/discharge_data/MRCdata/MRC/LA_260101_M_QH_E03.csv\n",
      "/docker/mnt/d/LM/Python_seminar/2022/discharge_data/MRCdata/MRC/LA_270101_M_QH_E03.csv\n",
      "/docker/mnt/d/LM/Python_seminar/2022/discharge_data/MRCdata/MRC/LA_270901_M_QH_E03.csv\n",
      "/docker/mnt/d/LM/Python_seminar/2022/discharge_data/MRCdata/MRC/LA_270903_M_QH_E03.csv\n",
      "/docker/mnt/d/LM/Python_seminar/2022/discharge_data/MRCdata/MRC/LA_320101_M_QH_E03.csv\n",
      "/docker/mnt/d/LM/Python_seminar/2022/discharge_data/MRCdata/MRC/LA_320107_M_QH_E03.csv\n",
      "/docker/mnt/d/LM/Python_seminar/2022/discharge_data/MRCdata/MRC/LA_350101_M_QH_E03.csv\n",
      "/docker/mnt/d/LM/Python_seminar/2022/discharge_data/MRCdata/MRC/LA_350105_M_QH_E03.csv\n",
      "/docker/mnt/d/LM/Python_seminar/2022/discharge_data/MRCdata/MRC/LA_350201_M_QH_E03.csv\n",
      "/docker/mnt/d/LM/Python_seminar/2022/discharge_data/MRCdata/MRC/LA_350301_M_QH_E03.csv\n",
      "/docker/mnt/d/LM/Python_seminar/2022/discharge_data/MRCdata/MRC/LA_350401_M_QH_E03.csv\n",
      "/docker/mnt/d/LM/Python_seminar/2022/discharge_data/MRCdata/MRC/LA_350501_M_QH_E03.csv\n",
      "/docker/mnt/d/LM/Python_seminar/2022/discharge_data/MRCdata/MRC/LA_350601_M_QH_E03.csv\n",
      "/docker/mnt/d/LM/Python_seminar/2022/discharge_data/MRCdata/MRC/LA_350602_M_QH_E03.csv\n",
      "/docker/mnt/d/LM/Python_seminar/2022/discharge_data/MRCdata/MRC/LA_390102_M_QH_E03.csv\n",
      "/docker/mnt/d/LM/Python_seminar/2022/discharge_data/MRCdata/MRC/LA_390103_M_QH_E03.csv\n",
      "/docker/mnt/d/LM/Python_seminar/2022/discharge_data/MRCdata/MRC/LA_390104_M_QH_E03.csv\n",
      "/docker/mnt/d/LM/Python_seminar/2022/discharge_data/MRCdata/MRC/LA_430105_M_QH_E03.csv\n",
      "/docker/mnt/d/LM/Python_seminar/2022/discharge_data/MRCdata/MRC/LA_430106_M_QH_E03.csv\n",
      "/docker/mnt/d/LM/Python_seminar/2022/discharge_data/MRCdata/MRC/TH_010501_M_QH_E03.csv\n",
      "/docker/mnt/d/LM/Python_seminar/2022/discharge_data/MRCdata/MRC/TH_010601_M_QH_E03.csv\n",
      "/docker/mnt/d/LM/Python_seminar/2022/discharge_data/MRCdata/MRC/TH_011903_M_QH_E03.csv\n",
      "/docker/mnt/d/LM/Python_seminar/2022/discharge_data/MRCdata/MRC/TH_011904_M_QH_E03.csv\n",
      "/docker/mnt/d/LM/Python_seminar/2022/discharge_data/MRCdata/MRC/TH_012001_M_QH_E03.csv\n",
      "/docker/mnt/d/LM/Python_seminar/2022/discharge_data/MRCdata/MRC/TH_013101_M_QH_E03.csv\n",
      "/docker/mnt/d/LM/Python_seminar/2022/discharge_data/MRCdata/MRC/TH_013402_M_QH_E03.csv\n",
      "/docker/mnt/d/LM/Python_seminar/2022/discharge_data/MRCdata/MRC/TH_013801_M_QH_E03.csv\n",
      "/docker/mnt/d/LM/Python_seminar/2022/discharge_data/MRCdata/MRC/TH_021803_M_QH_E03.csv\n",
      "/docker/mnt/d/LM/Python_seminar/2022/discharge_data/MRCdata/MRC/TH_022901_M_QH_E03.csv\n",
      "/docker/mnt/d/LM/Python_seminar/2022/discharge_data/MRCdata/MRC/TH_040101_M_QH_E03.csv\n",
      "/docker/mnt/d/LM/Python_seminar/2022/discharge_data/MRCdata/MRC/TH_040201_M_QH_E03.csv\n",
      "/docker/mnt/d/LM/Python_seminar/2022/discharge_data/MRCdata/MRC/TH_050104_M_QH_E03.csv\n",
      "/docker/mnt/d/LM/Python_seminar/2022/discharge_data/MRCdata/MRC/TH_050105_M_QH_E03.csv\n",
      "/docker/mnt/d/LM/Python_seminar/2022/discharge_data/MRCdata/MRC/TH_050201_M_QH_E03.csv\n",
      "/docker/mnt/d/LM/Python_seminar/2022/discharge_data/MRCdata/MRC/TH_050301_M_QH_E03.csv\n",
      "/docker/mnt/d/LM/Python_seminar/2022/discharge_data/MRCdata/MRC/TH_051001_M_QH_E03.csv\n",
      "/docker/mnt/d/LM/Python_seminar/2022/discharge_data/MRCdata/MRC/TH_052302_M_QH_E03.csv\n",
      "/docker/mnt/d/LM/Python_seminar/2022/discharge_data/MRCdata/MRC/TH_052502_M_QH_E03.csv\n",
      "/docker/mnt/d/LM/Python_seminar/2022/discharge_data/MRCdata/MRC/TH_070103_M_QH_E03.csv\n",
      "/docker/mnt/d/LM/Python_seminar/2022/discharge_data/MRCdata/MRC/TH_140101_M_QH_E03.csv\n",
      "/docker/mnt/d/LM/Python_seminar/2022/discharge_data/MRCdata/MRC/TH_140201_M_QH_E03.csv\n",
      "/docker/mnt/d/LM/Python_seminar/2022/discharge_data/MRCdata/MRC/TH_140301_M_QH_E03.csv\n",
      "/docker/mnt/d/LM/Python_seminar/2022/discharge_data/MRCdata/MRC/TH_150101_M_QH_E03.csv\n",
      "/docker/mnt/d/LM/Python_seminar/2022/discharge_data/MRCdata/MRC/TH_150102_M_QH_E03.csv\n"
     ]
    },
    {
     "name": "stdout",
     "output_type": "stream",
     "text": [
      "/docker/mnt/d/LM/Python_seminar/2022/discharge_data/MRCdata/MRC/TH_160402_M_QH_E03.csv\n",
      "/docker/mnt/d/LM/Python_seminar/2022/discharge_data/MRCdata/MRC/TH_290102_M_QH_E03.csv\n",
      "/docker/mnt/d/LM/Python_seminar/2022/discharge_data/MRCdata/MRC/TH_310102_M_QH_E03.csv\n",
      "/docker/mnt/d/LM/Python_seminar/2022/discharge_data/MRCdata/MRC/TH_310201_M_QH_E03.csv\n",
      "/docker/mnt/d/LM/Python_seminar/2022/discharge_data/MRCdata/MRC/TH_330103_M_QH_E03.csv\n",
      "/docker/mnt/d/LM/Python_seminar/2022/discharge_data/MRCdata/MRC/TH_370104_M_QH_E03.csv\n",
      "/docker/mnt/d/LM/Python_seminar/2022/discharge_data/MRCdata/MRC/TH_370122_M_QH_E03.csv\n",
      "/docker/mnt/d/LM/Python_seminar/2022/discharge_data/MRCdata/MRC/TH_370210_M_QH_E03.csv\n",
      "/docker/mnt/d/LM/Python_seminar/2022/discharge_data/MRCdata/MRC/TH_370805_M_QH_E03.csv\n",
      "/docker/mnt/d/LM/Python_seminar/2022/discharge_data/MRCdata/MRC/TH_371101_M_QH_E03.csv\n",
      "/docker/mnt/d/LM/Python_seminar/2022/discharge_data/MRCdata/MRC/TH_371203_M_QH_E03.csv\n",
      "/docker/mnt/d/LM/Python_seminar/2022/discharge_data/MRCdata/MRC/TH_371509_M_QH_E03.csv\n",
      "/docker/mnt/d/LM/Python_seminar/2022/discharge_data/MRCdata/MRC/TH_380103_M_QH_E03.csv\n",
      "/docker/mnt/d/LM/Python_seminar/2022/discharge_data/MRCdata/MRC/TH_380111_M_QH_E03.csv\n",
      "/docker/mnt/d/LM/Python_seminar/2022/discharge_data/MRCdata/MRC/TH_380127_M_QH_E03.csv\n",
      "/docker/mnt/d/LM/Python_seminar/2022/discharge_data/MRCdata/MRC/TH_380134_M_QH_E03.csv\n",
      "/docker/mnt/d/LM/Python_seminar/2022/discharge_data/MRCdata/MRC/TH_381206_M_QH_E03.csv\n",
      "/docker/mnt/d/LM/Python_seminar/2022/discharge_data/MRCdata/MRC/TH_381503_M_QH_E03.csv\n",
      "/docker/mnt/d/LM/Python_seminar/2022/discharge_data/MRCdata/MRC/VN_019804_M_QH_E03.csv\n",
      "/docker/mnt/d/LM/Python_seminar/2022/discharge_data/MRCdata/MRC/VN_039801_M_QH_E03.csv\n",
      "/docker/mnt/d/LM/Python_seminar/2022/discharge_data/MRCdata/MRC/VN_039803_M_QH_E03.csv\n",
      "/docker/mnt/d/LM/Python_seminar/2022/discharge_data/MRCdata/MRC/VN_140704_M_QH_E03.csv\n",
      "/docker/mnt/d/LM/Python_seminar/2022/discharge_data/MRCdata/MRC/VN_440201_M_QH_E03.csv\n",
      "/docker/mnt/d/LM/Python_seminar/2022/discharge_data/MRCdata/MRC/VN_440601_M_QH_E03.csv\n",
      "/docker/mnt/d/LM/Python_seminar/2022/discharge_data/MRCdata/MRC/VN_450701_M_QH_E03.csv\n",
      "/docker/mnt/d/LM/Python_seminar/2022/discharge_data/MRCdata/MRC/VN_451305_M_QH_E03.csv\n",
      "/docker/mnt/d/LM/Python_seminar/2022/discharge_data/MRCdata/MRC/VN_451501_M_QH_E03.csv\n",
      "/docker/mnt/d/LM/Python_seminar/2022/discharge_data/MRCdata/MRC/VN_980601_M_QH_E03.csv\n"
     ]
    }
   ],
   "source": [
    "main()"
   ]
  }
 ],
 "metadata": {
  "celltoolbar": "Slideshow",
  "kernelspec": {
   "display_name": "Python 3 (ipykernel)",
   "language": "python",
   "name": "python3"
  },
  "language_info": {
   "codemirror_mode": {
    "name": "ipython",
    "version": 3
   },
   "file_extension": ".py",
   "mimetype": "text/x-python",
   "name": "python",
   "nbconvert_exporter": "python",
   "pygments_lexer": "ipython3",
   "version": "3.8.10"
  }
 },
 "nbformat": 4,
 "nbformat_minor": 5
}
