{
 "cells": [
  {
   "cell_type": "markdown",
   "id": "7042292f-b971-48c5-8e29-e63913c168bb",
   "metadata": {},
   "source": [
    "# 1. Definition"
   ]
  },
  {
   "cell_type": "code",
   "execution_count": 1,
   "id": "b7e19d32-f540-494a-a507-ea24903f03e9",
   "metadata": {
    "tags": []
   },
   "outputs": [],
   "source": [
    "import bisect\n",
    "import numpy as np\n",
    "from os.path import exists\n",
    "import matplotlib as mpl\n",
    "import matplotlib.pyplot as plt\n",
    "import matplotlib.colors as colors\n",
    "import cartopy.crs as ccrs"
   ]
  },
  {
   "cell_type": "code",
   "execution_count": 2,
   "id": "c224a117-b55c-4ed7-ba37-d50cb2924bf8",
   "metadata": {
    "tags": []
   },
   "outputs": [],
   "source": [
    "def load(path):\n",
    "    print(f\"{path}: exist? => {exists(path)}\")\n",
    "    npy = np.load(path)\n",
    "    return npy\n",
    "\n",
    "def make_boundaries(data, class_num=5, models=42, years=165, grids=20*20):\n",
    "    mjjaso = data.copy() # data(42, 165, lat_grid, lon_grid)\n",
    "    flat = mjjaso.reshape(models*years*grids)\n",
    "    flat_sorted = np.sort(flat)\n",
    "    if len(flat_sorted)%class_num != 0:\n",
    "        print('class_num is wrong')\n",
    "    else:\n",
    "        batch_sample = int(len(flat_sorted)/class_num)\n",
    "        \n",
    "    bnd = [flat_sorted[i] for i in range(0, len(flat_sorted), batch_sample)]\n",
    "    bnd.append(flat_sorted[-1] + 1e-10) # max boundary must be a bit higher than real max\n",
    "    bnd[0] = bnd[0] - 1e-10 # min boundary must be a bit higher than real min\n",
    "    bnd = np.array(bnd)\n",
    "    \n",
    "    return flat, bnd\n",
    "\n",
    "def one_EFD(data, class_num=5, models=42, years=165):\n",
    "    flat, bnd = make_boundaries(data, class_num=class_num, models=models, years=years, gids=1)\n",
    "\n",
    "    one_class = np.empty(len(flat))\n",
    "    for i, value in enumerate(flat):\n",
    "        label = bisect.bisect(bnd, value)\n",
    "        one_class[i] = int(label - 1)\n",
    "    one_class.rehsape(models, years)\n",
    "    return one_class, bnd\n",
    "    \n",
    "def thailand_EFD(data, class_num=5, models=42, years=165, lat_grid=20, lon_grid=20):\n",
    "    # EFD_bnd\n",
    "    mjjaso_thailand = data.copy() # data = (42, 165, 20, 20)\n",
    "    flat, bnd = make_boundaries(data, class_num=class_num, models=models, years=years, grids=lat_grid*lon_grid)\n",
    "    \n",
    "    thailand_class = np.empty(data.shape)\n",
    "    for lat in range(lat_grid):\n",
    "        for lon in range(lon_grid):\n",
    "            grid = mjjaso_thailand[:, :, lat, lon].reshape(models*years)\n",
    "            grid_class = np.empty(len(grid))\n",
    "            for i, value in enumerate(grid):\n",
    "                label = bisect.bisect(bnd, value)\n",
    "                grid_class[i] = int(label - 1)\n",
    "            grid_class = grid_class.reshape(models, years)\n",
    "            thailand_class[:, :, lat, lon] = grid_class\n",
    "    return thailand_class, bnd"
   ]
  },
  {
   "cell_type": "markdown",
   "id": "fb922d91-43c5-4a3c-b8f2-0d186bc882af",
   "metadata": {},
   "source": [
    "# 2. Load"
   ]
  },
  {
   "cell_type": "code",
   "execution_count": 3,
   "id": "5bea8cd9-0bdd-4540-8730-d474bf89f6f3",
   "metadata": {
    "tags": []
   },
   "outputs": [
    {
     "name": "stdout",
     "output_type": "stream",
     "text": [
      "/docker/mnt/d/research/D2/cnn3/predictant/continuous/pr_1x1_std_MJJASO_thailand.npy: exist? => True\n",
      "(42, 165, 20, 20)\n"
     ]
    }
   ],
   "source": [
    "def thailand_resolution(resolution):\n",
    "    if resolution == '1x1':\n",
    "        lat_grid, lon_grid = 20, 20\n",
    "        key = '1x1'\n",
    "    elif resolution == '5x5':\n",
    "        lat_grid, lon_grid = 4, 4\n",
    "        key = '5x5_coarse'\n",
    "    return key, lat_grid, lon_grid\n",
    "\n",
    "# setting\n",
    "resolution = '1x1'\n",
    "key, lat_grid, long_gird = thailand_resolution(resolution)\n",
    "month = 'MJJASO'\n",
    "\n",
    "work = '/docker/mnt/d/research/D2/cnn3/predictant/continuous/'\n",
    "onepath = work + f\"pr_{key}_std_{month}_one.npy\"\n",
    "thailandpath = work + f\"pr_{key}_std_{month}_thailand.npy\"\n",
    "\n",
    "thailand = load(thailandpath)\n",
    "print(thailand.shape)"
   ]
  },
  {
   "cell_type": "markdown",
   "id": "8d8935d7-23b4-492c-a039-0a95c771c5b6",
   "metadata": {},
   "source": [
    "# 3. Thailadn EFD"
   ]
  },
  {
   "cell_type": "code",
   "execution_count": 4,
   "id": "f0ca6f94-6704-49df-b865-74151f75b005",
   "metadata": {
    "tags": []
   },
   "outputs": [
    {
     "name": "stdout",
     "output_type": "stream",
     "text": [
      "(42, 165, 20, 20)\n",
      "(42, 165, 20, 20)\n",
      "[-3.42209629 -0.34381695 -0.11536562  0.08793853  0.33505367  2.72356614]\n"
     ]
    }
   ],
   "source": [
    "thailand_class, bnd = thailand_EFD(thailand,\n",
    "                                   class_num=5,\n",
    "                                   models=42,\n",
    "                                   years=165,\n",
    "                                   lat_grid=20,\n",
    "                                   lon_grid=20)\n",
    "print(thailand.shape)\n",
    "print(thailand_class.shape)\n",
    "print(bnd)"
   ]
  },
  {
   "cell_type": "markdown",
   "id": "8487c817-da63-4e46-a75a-c88ed51f1228",
   "metadata": {},
   "source": [
    "# 4. Plot"
   ]
  },
  {
   "cell_type": "code",
   "execution_count": 17,
   "id": "7fc33249-2cd1-4ba7-aafc-db291224fd8f",
   "metadata": {
    "tags": []
   },
   "outputs": [],
   "source": [
    "def draw_discreted_hist(data, bnd_list, class_num=5):\n",
    "    # color map\n",
    "    cmap = plt.cm.get_cmap('BrBG', class_num)\n",
    "    # cmap.N = 5\n",
    "    # cmap(0) = (R, G, B, alpha)    \n",
    "    \n",
    "    # plot\n",
    "    fig = plt.figure()\n",
    "    ax = plt.subplot()\n",
    "    ax = fig.add_axes([0.05, 0.2, 0.9, 0.7])\n",
    "    ax1 = fig.add_axes([0.05, 0.05, 0.9, 0.075])\n",
    "    \n",
    "    # n: number of counts in each bin of the histgram\n",
    "    # bins: is the left hand edge of each bin\n",
    "    # patches: collection of rectangles\n",
    "    ht, bins, patches = ax.hist(data,\n",
    "                                bins=100, # 400oder, bin=40000\n",
    "                                )\n",
    "    \n",
    "    # make criteria for bins\n",
    "    print(bnd_list)\n",
    "    print(bins)\n",
    "    bin_bnd = []\n",
    "    for criteria in bnd_list:\n",
    "        for index, bn in enumerate(bins):\n",
    "            if bn > criteria:\n",
    "                bin_bnd.append(index)\n",
    "                break\n",
    "    bin_bnd.append(-1)\n",
    "    \n",
    "    # color histgram\n",
    "    for b, c in zip(range(len(bin_bnd)),\n",
    "                    range(cmap.N)):\n",
    "        if b != len(bin_bnd) - 1:\n",
    "            plt.setp(patches[bin_bnd[b] : bin_bnd[b+1]],\n",
    "                     'facecolor',\n",
    "                     cmap(c)\n",
    "                     )\n",
    "        else:\n",
    "            plt.setp(patches[bin_bnd[-2] : bin_bnd[-1]],\n",
    "                     'facecolor',\n",
    "                     cmap(4)\n",
    "                     )\n",
    "            \n",
    "            \n",
    "    # draw colorbar\n",
    "    #bounds = [-0.5, 0.5, 1.5, 2.5, 3.5, 4.5]\n",
    "    bounds = [round(bnd_list[i], 2) for i in range(6)]\n",
    "    norm = mpl.colors.BoundaryNorm(bounds, cmap.N)\n",
    "    \n",
    "    cb1 = mpl.colorbar.ColorbarBase(ax1,\n",
    "                                    cmap=cmap,\n",
    "                                    norm=norm,\n",
    "                                    orientation='horizontal'\n",
    "                                    )\n",
    "    if class_num == 5:\n",
    "        label = [f\"{round(bnd_list[0], 2)}\",\n",
    "                 f\"{round(bnd_list[1], 2)}\",\n",
    "                 f\"{round(bnd_list[2], 2)}\",\n",
    "                 f\"{round(bnd_list[3], 2)}\",\n",
    "                 f\"{round(bnd_list[4], 2)}\",\n",
    "                 f\"{round(bnd_list[5], 2)}\",]\n",
    "        cb1.ax.set_xticklabels(label)\n",
    "    plt.show()"
   ]
  },
  {
   "cell_type": "code",
   "execution_count": 18,
   "id": "13f37a8f-51ea-4eb5-a8ed-35a50e8a0c7f",
   "metadata": {
    "tags": []
   },
   "outputs": [
    {
     "name": "stdout",
     "output_type": "stream",
     "text": [
      "[-3.42209629 -0.34381695 -0.11536562  0.08793853  0.33505367  2.72356614]\n",
      "[-3.42209629 -3.36063967 -3.29918305 -3.23772642 -3.1762698  -3.11481317\n",
      " -3.05335655 -2.99189992 -2.9304433  -2.86898667 -2.80753005 -2.74607343\n",
      " -2.6846168  -2.62316018 -2.56170355 -2.50024693 -2.4387903  -2.37733368\n",
      " -2.31587706 -2.25442043 -2.19296381 -2.13150718 -2.07005056 -2.00859393\n",
      " -1.94713731 -1.88568069 -1.82422406 -1.76276744 -1.70131081 -1.63985419\n",
      " -1.57839756 -1.51694094 -1.45548432 -1.39402769 -1.33257107 -1.27111444\n",
      " -1.20965782 -1.14820119 -1.08674457 -1.02528794 -0.96383132 -0.9023747\n",
      " -0.84091807 -0.77946145 -0.71800482 -0.6565482  -0.59509157 -0.53363495\n",
      " -0.47217833 -0.4107217  -0.34926508 -0.28780845 -0.22635183 -0.1648952\n",
      " -0.10343858 -0.04198196  0.01947467  0.08093129  0.14238792  0.20384454\n",
      "  0.26530117  0.32675779  0.38821441  0.44967104  0.51112766  0.57258429\n",
      "  0.63404091  0.69549754  0.75695416  0.81841079  0.87986741  0.94132403\n",
      "  1.00278066  1.06423728  1.12569391  1.18715053  1.24860716  1.31006378\n",
      "  1.3715204   1.43297703  1.49443365  1.55589028  1.6173469   1.67880353\n",
      "  1.74026015  1.80171677  1.8631734   1.92463002  1.98608665  2.04754327\n",
      "  2.1089999   2.17045652  2.23191315  2.29336977  2.35482639  2.41628302\n",
      "  2.47773964  2.53919627  2.60065289  2.66210952  2.72356614]\n"
     ]
    },
    {
     "data": {
      "image/png": "[encoded data removed]",
      "text/plain": [
       "<Figure size 640x480 with 3 Axes>"
      ]
     },
     "metadata": {},
     "output_type": "display_data"
    }
   ],
   "source": [
    "thailand_flat = thailand.reshape(42*165*20*20)\n",
    "draw_discreted_hist(thailand_flat, bnd, class_num=5)"
   ]
  },
  {
   "cell_type": "code",
   "execution_count": null,
   "id": "cc978088-e1a1-4b02-aa05-0f4ef8207890",
   "metadata": {},
   "outputs": [],
   "source": []
  },
  {
   "cell_type": "code",
   "execution_count": null,
   "id": "a90ed72d-4cbf-4383-965d-e0199037e986",
   "metadata": {},
   "outputs": [],
   "source": []
  }
 ],
 "metadata": {
  "kernelspec": {
   "display_name": "Python 3 (ipykernel)",
   "language": "python",
   "name": "python3"
  },
  "language_info": {
   "codemirror_mode": {
    "name": "ipython",
    "version": 3
   },
   "file_extension": ".py",
   "mimetype": "text/x-python",
   "name": "python",
   "nbconvert_exporter": "python",
   "pygments_lexer": "ipython3",
   "version": "3.8.10"
  }
 },
 "nbformat": 4,
 "nbformat_minor": 5
}
