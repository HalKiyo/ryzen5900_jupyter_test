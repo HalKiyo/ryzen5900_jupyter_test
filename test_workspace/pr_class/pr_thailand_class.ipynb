{
 "cells": [
  {
   "cell_type": "markdown",
   "id": "7042292f-b971-48c5-8e29-e63913c168bb",
   "metadata": {},
   "source": [
    "# 1. Load predictors and predictant"
   ]
  },
  {
   "cell_type": "code",
   "execution_count": null,
   "id": "c224a117-b55c-4ed7-ba37-d50cb2924bf8",
   "metadata": {},
   "outputs": [],
   "source": [
    "import numpy as np\n",
    "\n",
    "def load(inkey, outkey):\n",
    "    infile = f\"/docker/mnt/d/research/D2/cnn3/predictors/{inkey}.npy\"\n",
    "    outfile = f\"/docker/mnt/d/research/D2/cnn3/predictant/class/{outkey}.npy\"\n",
    "    predictors = np.load(infile)\n",
    "    predictant = np.load(outfile)\n",
    "    return predictors, predictant"
   ]
  },
  {
   "cell_type": "code",
   "execution_count": null,
   "id": "5bea8cd9-0bdd-4540-8730-d474bf89f6f3",
   "metadata": {},
   "outputs": [],
   "source": [
    "tors = 'predictors_coarse_std_Apr_msot'\n",
    "tant = 'pr_5x5_coarse_std_MJJASO_thailand_5'\n",
    "predictors, predictant = load(tors, tant)"
   ]
  },
  {
   "cell_type": "code",
   "execution_count": null,
   "id": "00c9b10c-7163-42b2-bc26-75f929a913a0",
   "metadata": {},
   "outputs": [],
   "source": [
    "print(predictors.shape)\n",
    "print(predictant.shape)\n",
    "predictant[0,0,:,:]"
   ]
  },
  {
   "cell_type": "markdown",
   "id": "fb922d91-43c5-4a3c-b8f2-0d186bc882af",
   "metadata": {},
   "source": [
    "# 2. Pixcel dataset"
   ]
  },
  {
   "cell_type": "markdown",
   "id": "76078e16-f933-48e8-9d21-029a382ced7e",
   "metadata": {},
   "source": [
    "- random_number identifies input/output data index.\n",
    "- Then, model_number and year_number must be givern first \n",
    "- After that, 4x4 Thailand grids would be distributed to individual training dataset.\n",
    "- return object of shuffle function should contain 4x4 shape"
   ]
  },
  {
   "cell_type": "code",
   "execution_count": null,
   "id": "d18db97b-cd7e-42c8-b7df-5bd2352b2463",
   "metadata": {},
   "outputs": [],
   "source": [
    "def shuffle(indata, outdata, vsample, seed):\n",
    "    #indata(4,42,165,24,72), outdata(42,165,4,4)\n",
    "    rng = np.random.default_rng(seed)\n",
    "    \n",
    "    outdata = outdata.reshape(42, 165, 4, 4)\n",
    "    random_number = indata.shape[1]*indata.shape[2] # 42*165\n",
    "    random_index = rng.choice(random_number, random_number, replace=False)\n",
    "    \n",
    "    train_index = random_index[:-vsample]\n",
    "    train_dct = {'model': train_index//indata.shape[2],\n",
    "                 'year': train_index%indata.shape[2]}\n",
    "    x_train = np.array([indata[:, m, y] for m, y in zip(\n",
    "                        train_dct['model'], train_dct['year'])])\n",
    "    y_train = np.array([outdata[m,y,:,:] for m, y in zip(\n",
    "                        train_dct['model'], train_dct['year'])])\n",
    "    \n",
    "    val_index = random_index[-vsample:]\n",
    "    val_dct = {'model': val_index//indata.shape[2],\n",
    "               'year': val_index%indata.shape[2]}\n",
    "    x_val = np.array([indata[:, m, y] for m, y in zip(\n",
    "                      val_dct['model'], train_dct['year'])])\n",
    "    y_val = np.array([outdata[m, y,:,:] for m, y in zip(\n",
    "                      val_dct['model'], train_dct['year'])])\n",
    "    # x_train(4,42*165-vsample,24,72), y_train(42*165-vsample, 4, 4) \n",
    "    return x_train, y_train, x_val, y_val, train_dct, val_dct"
   ]
  },
  {
   "cell_type": "code",
   "execution_count": null,
   "id": "f0ca6f94-6704-49df-b865-74151f75b005",
   "metadata": {},
   "outputs": [],
   "source": [
    "x_train, y_train, x_val, y_val, train_dct, val_dct = shuffle(\n",
    "    predictors, predictant, vsample=1000, seed=1)"
   ]
  },
  {
   "cell_type": "code",
   "execution_count": null,
   "id": "f10da6aa-8e80-49f2-bb2b-2d52834e8ee8",
   "metadata": {},
   "outputs": [],
   "source": [
    "y_train.shape"
   ]
  },
  {
   "cell_type": "markdown",
   "id": "8d8935d7-23b4-492c-a039-0a95c771c5b6",
   "metadata": {},
   "source": [
    "# 3. Pixel training and save state"
   ]
  },
  {
   "cell_type": "code",
   "execution_count": null,
   "id": "094d492a-57f9-47f0-bfd8-985bf46bbaae",
   "metadata": {},
   "outputs": [],
   "source": [
    "import numpy.ma as ma\n",
    "\n",
    "def mask(x):\n",
    "    m = ma.masked_where(x>9999, x)\n",
    "    z = ma.masked_where(m==0, m)\n",
    "    f = ma.filled(z, 0)\n",
    "    return f "
   ]
  },
  {
   "cell_type": "code",
   "execution_count": null,
   "id": "a4305ef6-748f-4c18-a03f-d7cefbf13ec2",
   "metadata": {},
   "outputs": [],
   "source": [
    "import tensorflow as tf\n",
    "from tensorflow.keras import layers, models \n",
    "\n",
    "def build_model(input_shape, output_dim):\n",
    "    model = models.Sequential()\n",
    "    model.add(layers.Conv2D(32, (4,8), activation=tf.nn.relu, input_shape=input_shape, padding='same'))\n",
    "    model.add(layers.MaxPooling2D((2,2)))\n",
    "    model.add(layers.Conv2D(32, (2,4), activation=tf.nn.relu, padding='same'))\n",
    "    model.add(layers.MaxPooling2D((2,2)))\n",
    "    model.add(layers.Conv2D(32, (2,4), activation=tf.nn.relu, padding='same'))\n",
    "    model.add(layers.Flatten())\n",
    "    model.add(layers.Dense(50, activation=tf.nn.relu))\n",
    "    model.add(layers.Dense(output_dim, activation='softmax'))\n",
    "    return model"
   ]
  },
  {
   "cell_type": "markdown",
   "id": "375a9bbd-ee36-437c-a766-8362358742dd",
   "metadata": {},
   "source": [
    "- Reshape 4x4 to 16\n",
    "- Train pixcel model 16 times \n",
    "- save weights with pixcel name"
   ]
  },
  {
   "cell_type": "code",
   "execution_count": null,
   "id": "e01cff04-2164-4cc2-88cc-421b8bd8f413",
   "metadata": {},
   "outputs": [],
   "source": [
    "import os\n",
    "import pickle\n",
    "\n",
    "def PixcelTrain(x_train, y_train, x_val, y_val):\n",
    "    # x_train(4,tsample,24,72), y_train(tsample,4,4), x_val(4,vsample,24,72),y_val(vsample,4,4)\n",
    "    # init\n",
    "    class_num = 5\n",
    "    lat, lon = 24, 72\n",
    "    var_num = 4\n",
    "    batch_size = 256\n",
    "    epochs = 10\n",
    "    optimizer = tf.keras.optimizers.Adam(learning_rate=0.001)\n",
    "    loss = tf.keras.losses.CategoricalCrossentropy()\n",
    "    metrics = tf.keras.metrics.CategoricalAccuracy()\n",
    "    weightdir = f\"./weights/class{class_num}_epoch{epochs}_batch{batch_size}\"\n",
    "    os.makedirs(weightdir, exist_ok=True)\n",
    "    \n",
    "    # x: input preprocessing\n",
    "    x_train, x_val = mask(x_train), mask(x_val)\n",
    "    x_train, x_val = x_train.transpose(0,2,3,1), x_val.transpose(0,2,3,1)\n",
    "    \n",
    "    # y: output preprocessing\n",
    "    tsample, vsample = len(y_train), len(y_val)\n",
    "    y_train, y_val = y_train.reshape(tsample, 4*4), y_val.reshape(vsample, 4*4)\n",
    "    \n",
    "    # pixcel loop\n",
    "    for i in range(16):\n",
    "        # y: output preprocessing \n",
    "        y_train_px = y_train[:,i]\n",
    "        y_train_one_hot = tf.keras.utils.to_categorical(y_train_px, class_num)\n",
    "        \n",
    "        # model training\n",
    "        model = build_model((lat, lon, var_num), class_num)\n",
    "        model.compile(optimizer=optimizer, loss=loss, metrics=[metrics])\n",
    "        his = model.fit(x_train, y_train_one_hot, batch_size=batch_size, epochs=epochs)\n",
    "        \n",
    "        # save weights\n",
    "        model.save_weights(f\"{weightdir}/tmp_{i}.h5\")\n",
    "    \n",
    "    # save state\n",
    "    dct = {'x_train': x_train, 'y_train': y_train,\n",
    "           'x_val': x_val, 'y_val': y_val,\n",
    "           'train_dct': train_dct, 'val_dct': val_dct}\n",
    "    with open('./train_val/tmp.pickle', 'wb') as f:\n",
    "        pickle.dump(dct, f)"
   ]
  },
  {
   "cell_type": "code",
   "execution_count": null,
   "id": "d37d77f3-ec98-4eee-9b1e-81753416bf42",
   "metadata": {},
   "outputs": [],
   "source": [
    "PixcelTrain(x_train, y_train, x_val, y_val)"
   ]
  },
  {
   "cell_type": "markdown",
   "id": "8487c817-da63-4e46-a75a-c88ed51f1228",
   "metadata": {},
   "source": [
    "# 4. Load state and evaluate"
   ]
  },
  {
   "cell_type": "code",
   "execution_count": 23,
   "id": "efaa5548-8cb1-4371-9f34-3f812feb0d09",
   "metadata": {},
   "outputs": [],
   "source": [
    "def PixcelValidation():\n",
    "    # init\n",
    "    class_num = 5\n",
    "    lat, lon = 24, 72\n",
    "    var_num = 4\n",
    "    batch_size = 256\n",
    "    epochs = 10\n",
    "    optimizer = tf.keras.optimizers.Adam(learning_rate=0.001)\n",
    "    loss = tf.keras.losses.CategoricalCrossentropy()\n",
    "    metrics = tf.keras.metrics.CategoricalAccuracy()\n",
    "    weightdir = f\"./weights/class{class_num}_epoch{epochs}_batch{batch_size}\"\n",
    "    \n",
    "    with open('./train_val/tmp.pickle', 'rb') as f:\n",
    "        data = pickle.load(f)\n",
    "    x_val, y_val = data['x_val'], data['y_val']\n",
    "    \n",
    "    # pixcel loop\n",
    "    for i in range(16):\n",
    "        y_val_px = y_val[:,i]\n",
    "        y_val_one_hot = tf.keras.utils.to_categorical(y_val_px, class_num)\n",
    "        model = build_model((lat, lon, var_num), class_num)\n",
    "        model.compile(optimizer=optimizer, loss=loss, metrics=[metrics])\n",
    "        model.load_weights(f\"{weightdir}/tmp_{i}.h5\")\n",
    "        result = model.evaluate(x_val, y_val_one_hot)\n",
    "        print(f\"CategoricalAccuracy: {result[1]}\")"
   ]
  },
  {
   "cell_type": "code",
   "execution_count": null,
   "id": "e69b9eda-7790-4c04-a9ef-c6b13a159e5b",
   "metadata": {},
   "outputs": [],
   "source": [
    "PixcelValidation()"
   ]
  },
  {
   "cell_type": "markdown",
   "id": "574878d5-741c-4c20-a94c-face5bb74643",
   "metadata": {},
   "source": [
    "# 5. View result"
   ]
  },
  {
   "cell_type": "code",
   "execution_count": null,
   "id": "2b790180-a449-429a-b20d-b96b2d17ff35",
   "metadata": {},
   "outputs": [],
   "source": [
    "def view():\n",
    "    print('a')"
   ]
  },
  {
   "cell_type": "code",
   "execution_count": null,
   "id": "7fc33249-2cd1-4ba7-aafc-db291224fd8f",
   "metadata": {},
   "outputs": [],
   "source": []
  }
 ],
 "metadata": {
  "kernelspec": {
   "display_name": "Python 3 (ipykernel)",
   "language": "python",
   "name": "python3"
  },
  "language_info": {
   "codemirror_mode": {
    "name": "ipython",
    "version": 3
   },
   "file_extension": ".py",
   "mimetype": "text/x-python",
   "name": "python",
   "nbconvert_exporter": "python",
   "pygments_lexer": "ipython3",
   "version": "3.8.10"
  }
 },
 "nbformat": 4,
 "nbformat_minor": 5
}
