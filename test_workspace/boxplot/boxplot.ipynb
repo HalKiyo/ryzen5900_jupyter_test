{
 "cells": [
  {
   "cell_type": "code",
   "execution_count": 1,
   "id": "584c26d5-5b51-4ec8-8ce8-7c82978e65f2",
   "metadata": {},
   "outputs": [
    {
     "data": {
      "text/plain": [
       "[Text(0, 0, 'a1, b1'), Text(1, 0, 'a2, b2')]"
      ]
     },
     "execution_count": 1,
     "metadata": {},
     "output_type": "execute_result"
    },
    {
     "data": {
      "image/png": "[encoded data removed]",
      "text/plain": [
       "<Figure size 432x288 with 1 Axes>"
      ]
     },
     "metadata": {
      "needs_background": "light"
     },
     "output_type": "display_data"
    }
   ],
   "source": [
    "import matplotlib.pyplot as plt\n",
    "import numpy as np\n",
    "\n",
    "np.random.seed(42)\n",
    "resultsOwnAlgorithm = {'a1, b1': np.random.normal(scale=2, size=20), 'a2, b2': np.random.normal(scale=1.5, size=20)}\n",
    "resultsBaseline = {'a1, b1': np.random.normal(scale=2, size=20), 'a2, b2': np.random.normal(scale=1.5, size=20)}\n",
    "x_vals = np.arange(0, len(resultsOwnAlgorithm))\n",
    "xs = {key:val for key, val in zip(resultsOwnAlgorithm.keys(), x_vals)}\n",
    "shift = 0.1\n",
    "\n",
    "fig, ax = plt.subplots()\n",
    "for key in resultsOwnAlgorithm.keys():\n",
    "    ax.boxplot(resultsOwnAlgorithm[key], positions=[xs[key] - shift], boxprops=dict(color='r'))\n",
    "    ax.boxplot(resultsBaseline[key], positions=[xs[key] + shift], boxprops=dict(color='b'))\n",
    "\n",
    "ax.set_xticks(x_vals)\n",
    "ax.set_xticklabels(resultsOwnAlgorithm.keys())"
   ]
  },
  {
   "cell_type": "code",
   "execution_count": 4,
   "id": "35ac648c-c561-4f19-8f7f-f287b1b0f47e",
   "metadata": {},
   "outputs": [
    {
     "data": {
      "text/plain": [
       "[Text(0, 0, 'a1, b1'), Text(1, 0, 'a2, b2')]"
      ]
     },
     "execution_count": 4,
     "metadata": {},
     "output_type": "execute_result"
    },
    {
     "data": {
      "image/png": "[encoded data removed]",
      "text/plain": [
       "<Figure size 432x288 with 1 Axes>"
      ]
     },
     "metadata": {
      "needs_background": "light"
     },
     "output_type": "display_data"
    }
   ],
   "source": [
    "np.random.seed(42)\n",
    "resultsOwnAlgorithm = {'a1, b1': np.random.normal(scale=2, size=20), 'a2, b2': np.random.normal(scale=1.5, size=10)}\n",
    "x_vals = np.arange(0, len(resultsOwnAlgorithm))\n",
    "xs = {key:val for key, val in zip(resultsOwnAlgorithm.keys(), x_vals)}\n",
    "shift = 0.1\n",
    "\n",
    "fig, ax = plt.subplots()\n",
    "for key in resultsOwnAlgorithm.keys():\n",
    "    ax.boxplot(resultsOwnAlgorithm[key], positions=[xs[key] - shift], boxprops=dict(color='r'))\n",
    "\n",
    "ax.set_xticks(x_vals)\n",
    "ax.set_xticklabels(resultsOwnAlgorithm.keys())"
   ]
  },
  {
   "cell_type": "code",
   "execution_count": null,
   "id": "4357fc37-d5c8-4baa-b0cd-117ee39c65bf",
   "metadata": {},
   "outputs": [],
   "source": []
  }
 ],
 "metadata": {
  "kernelspec": {
   "display_name": "Python 3 (ipykernel)",
   "language": "python",
   "name": "python3"
  },
  "language_info": {
   "codemirror_mode": {
    "name": "ipython",
    "version": 3
   },
   "file_extension": ".py",
   "mimetype": "text/x-python",
   "name": "python",
   "nbconvert_exporter": "python",
   "pygments_lexer": "ipython3",
   "version": "3.8.10"
  }
 },
 "nbformat": 4,
 "nbformat_minor": 5
}
