{
 "cells": [
  {
   "cell_type": "markdown",
   "id": "caad3df1-5f7e-4742-ba95-870e150d1d38",
   "metadata": {},
   "source": [
    "# This is trial for comparing evaluation result\n",
    "\n",
    "1. Correlation map difference with control experiment\n",
    "2. RMSE map difference with control experimnet\n",
    "3. AUC map difference with control experiment\n",
    "4. ROC curve of AUC_mean of all experiments\n",
    "5. TF_bar of all experiments\n",
    "6. bimodal_bar of all experiments\n",
    "\n",
    "## [experiment] world_5x5_continuous\n",
    "\n",
    "### MJJASO, JJA, JAS, ASO\n",
    "\n",
    "- control (msot)\n",
    "- soil moisture\n",
    "- snow coverage\n",
    "- sea surface temperature\n",
    "- temperature of soil layer\n",
    "- SST + MOISTURE\n",
    "- SST + SNOW\n",
    "- SST + SOIL TEMPERATURE\n",
    "\n",
    "## [experiment] thailand_1x1_continuous\n",
    "\n",
    "### MJJASO, JJA, JAS, ASO\n",
    "\n",
    "- control (msot)\n",
    "- soil moisture\n",
    "- snow coverage\n",
    "- sea surface temperature\n",
    "- temperature of soil layer\n",
    "- SST + MOISTURE\n",
    "- SST + SNOW\n",
    "- SST + SOIL TEMPERATURE"
   ]
  },
  {
   "cell_type": "code",
   "execution_count": 4,
   "id": "a7d485d9-e367-4666-a98f-232202d9d63f",
   "metadata": {},
   "outputs": [],
   "source": [
    "import numpy as np\n",
    "\n",
    "def load(path):\n",
    "    data = np.load(path)\n",
    "    return data"
   ]
  },
  {
   "cell_type": "code",
   "execution_count": 10,
   "id": "c842a173-b7bb-4643-803b-0055c7b4b42a",
   "metadata": {
    "tags": []
   },
   "outputs": [],
   "source": [
    "# world_5x5_continuous MJJASO\n",
    "\n",
    "msot_MJJASO = f\"/docker/mnt/d/research/D2/cnn3/result/continuous/world/5x5\" \\\n",
    "              f\"/predictors_coarse_std_Apr_msot-pr_5x5_coarse_std_MJJASO_world\" \\\n",
    "              f\"/epoch100_batch256_seed1.npy\"\n",
    "\n",
    "m_MJJASO =    f\"/docker/mnt/d/research/D2/cnn3/result/continuous/world/5x5\" \\\n",
    "              f\"/predictors_coarse_std_Apr_m-pr_5x5_coarse_std_MJJASO_world\" \\\n",
    "              f\"/epoch100_batch256_seed1.npy\"\n",
    "\n",
    "s_MJJASO =    f\"/docker/mnt/d/research/D2/cnn3/result/continuous/world/5x5\" \\\n",
    "              f\"/predictors_coarse_std_Apr_s-pr_5x5_coarse_std_MJJASO_world\" \\\n",
    "              f\"/epoch100_batch256_seed1.npy\"\n",
    "\n",
    "o_MJJASO =    f\"/docker/mnt/d/research/D2/cnn3/result/continuous/world/5x5\" \\\n",
    "              f\"/predictors_coarse_std_Apr_o-pr_5x5_coarse_std_MJJASO_world\" \\\n",
    "              f\"/epoch100_batch256_seed1.npy\"\n",
    "\n",
    "t_MJJASO =    f\"/docker/mnt/d/research/D2/cnn3/result/continuous/world/5x5\" \\\n",
    "              f\"/predictors_coarse_std_Apr_t-pr_5x5_coarse_std_MJJASO_world\" \\\n",
    "              f\"/epoch100_batch256_seed1.npy\"\n",
    "\n",
    "mo_MJJASO =   f\"/docker/mnt/d/research/D2/cnn3/result/continuous/world/5x5\" \\\n",
    "              f\"/predictors_coarse_std_Apr_mo-pr_5x5_coarse_std_MJJASO_world\" \\\n",
    "              f\"/epoch100_batch256_seed1.npy\"\n",
    "\n",
    "so_MJJASO =   f\"/docker/mnt/d/research/D2/cnn3/result/continuous/world/5x5\" \\\n",
    "              f\"/predictors_coarse_std_Apr_so-pr_5x5_coarse_std_MJJASO_world\" \\\n",
    "              f\"/epoch100_batch256_seed1.npy\"\n",
    "\n",
    "ot_MJJASO =   f\"/docker/mnt/d/research/D2/cnn3/result/continuous/world/5x5\" \\\n",
    "              f\"/predictors_coarse_std_Apr_ot-pr_5x5_coarse_std_MJJASO_world\" \\\n",
    "              f\"/epoch100_batch256_seed1.npy\""
   ]
  },
  {
   "cell_type": "code",
   "execution_count": 9,
   "id": "f752502e-da00-4d59-bd2a-57950d3cd0ab",
   "metadata": {
    "tags": []
   },
   "outputs": [],
   "source": [
    "# ROC curve of AUC_mean of all experiments\n",
    "\n",
    "path_list = [msot_MJJASO, m_MJJASO, s_MJJASO, o_MJJASO]\n"
   ]
  },
  {
   "cell_type": "code",
   "execution_count": null,
   "id": "4c3dd09e-5551-4fc9-b97a-3f4c92ee23a8",
   "metadata": {},
   "outputs": [],
   "source": []
  }
 ],
 "metadata": {
  "kernelspec": {
   "display_name": "Python 3 (ipykernel)",
   "language": "python",
   "name": "python3"
  },
  "language_info": {
   "codemirror_mode": {
    "name": "ipython",
    "version": 3
   },
   "file_extension": ".py",
   "mimetype": "text/x-python",
   "name": "python",
   "nbconvert_exporter": "python",
   "pygments_lexer": "ipython3",
   "version": "3.8.10"
  }
 },
 "nbformat": 4,
 "nbformat_minor": 5
}
