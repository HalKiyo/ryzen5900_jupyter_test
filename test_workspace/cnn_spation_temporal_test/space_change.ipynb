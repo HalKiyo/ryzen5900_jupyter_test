{
 "cells": [
  {
   "cell_type": "code",
   "execution_count": 1,
   "id": "4d0dd689-0a0c-48a7-939e-730380c3dc09",
   "metadata": {
    "tags": []
   },
   "outputs": [],
   "source": [
    "import numpy as np\n",
    "\n",
    "def load(inkey, outkey):\n",
    "    infile = f\"/docker/mnt/d/research/D2/cnn3/predictors/{inkey}.npy\"\n",
    "    outfile = f\"/docker/mnt/d/research/D2/cnn3/predictant/continuous/{outkey}.npy\"\n",
    "    predictors = np.load(infile)\n",
    "    predictant = np.load(outfile)\n",
    "    return predictors, predictant"
   ]
  },
  {
   "cell_type": "code",
   "execution_count": 3,
   "id": "ed63ec53-5490-41c4-b5be-10288f94d7a1",
   "metadata": {
    "tags": []
   },
   "outputs": [
    {
     "name": "stdout",
     "output_type": "stream",
     "text": [
      "(4, 42, 165, 24, 72) (42, 165, 20, 20)\n"
     ]
    }
   ],
   "source": [
    "tors = 'predictors_coarse_std_Apr_msot'\n",
    "tand = 'pr_1x1_std_MJJASO_thailand'\n",
    "predictors, predictand = load(tors, tand)\n",
    "print(predictors.shape, predictand.shape)"
   ]
  },
  {
   "cell_type": "code",
   "execution_count": 15,
   "id": "83c93ff2-e803-4179-a2c5-ebddb8bf02aa",
   "metadata": {
    "tags": []
   },
   "outputs": [
    {
     "data": {
      "text/plain": [
       "<matplotlib.image.AxesImage at 0x7febb51b9ee0>"
      ]
     },
     "execution_count": 15,
     "metadata": {},
     "output_type": "execute_result"
    },
    {
     "data": {
      "image/png": "[encoded data removed]",
      "text/plain": [
       "<Figure size 640x480 with 1 Axes>"
      ]
     },
     "metadata": {},
     "output_type": "display_data"
    }
   ],
   "source": [
    "import matplotlib.pyplot as plt\n",
    "\n",
    "# 0: moisture, 1: snow, 2: sst, 3: land-tmp\n",
    "plt.imshow(predictors[2, 0, 0, :, :])"
   ]
  },
  {
   "cell_type": "code",
   "execution_count": 51,
   "id": "3fb451c9-c66c-4585-afb0-48f8f76d0027",
   "metadata": {
    "tags": []
   },
   "outputs": [
    {
     "name": "stdout",
     "output_type": "stream",
     "text": [
      "(12, 48)\n"
     ]
    },
    {
     "data": {
      "text/plain": [
       "<matplotlib.image.AxesImage at 0x7febae45e370>"
      ]
     },
     "execution_count": 51,
     "metadata": {},
     "output_type": "execute_result"
    },
    {
     "data": {
      "image/png": "[encoded data removed]",
      "text/plain": [
       "<Figure size 640x480 with 1 Axes>"
      ]
     },
     "metadata": {},
     "output_type": "display_data"
    }
   ],
   "source": [
    "# 領域を分解する\n",
    "\n",
    "ocean = predictors[2,0,0,6:18,9:57]\n",
    "print(ocean.shape)\n",
    "plt.imshow(ocean)"
   ]
  },
  {
   "cell_type": "code",
   "execution_count": 44,
   "id": "e352c439-42ac-432b-834c-a1fdc55ef057",
   "metadata": {
    "tags": []
   },
   "outputs": [],
   "source": [
    "import numpy.ma as ma\n",
    "\n",
    "def fill(x):\n",
    "    f = ma.filled(x, fill_value=99999)\n",
    "    return f\n",
    "\n",
    "def mask(x):\n",
    "    m = ma.masked_where(x>9999, x)\n",
    "    return m\n",
    "\n",
    "def conc(x):\n",
    "    c = x.copy()\n",
    "    c = fill(c)\n",
    "    x1, x2 = c[:, :, :, -36:], c[:, :, :,:36]\n",
    "    c = np.concatenate([x1, x2], 3)\n",
    "    return c"
   ]
  },
  {
   "cell_type": "code",
   "execution_count": 47,
   "id": "28b87901-fd2b-4ca3-a78c-5cb01d8f8c33",
   "metadata": {
    "tags": []
   },
   "outputs": [
    {
     "name": "stdout",
     "output_type": "stream",
     "text": [
      "(42, 165, 24, 72)\n"
     ]
    },
    {
     "data": {
      "text/plain": [
       "<matplotlib.image.AxesImage at 0x7febae57ef10>"
      ]
     },
     "execution_count": 47,
     "metadata": {},
     "output_type": "execute_result"
    },
    {
     "data": {
      "image/png": "[encoded data removed]",
      "text/plain": [
       "<Figure size 640x480 with 1 Axes>"
      ]
     },
     "metadata": {},
     "output_type": "display_data"
    }
   ],
   "source": [
    "recentered = conc(predictors[0,:,:,:,:])\n",
    "print(recentered.shape)\n",
    "plt.imshow(recentered[1, 3])"
   ]
  },
  {
   "cell_type": "code",
   "execution_count": 74,
   "id": "7c2200a3-d403-4406-b902-042d2e0d5466",
   "metadata": {
    "tags": []
   },
   "outputs": [
    {
     "name": "stdout",
     "output_type": "stream",
     "text": [
      "(42, 165, 12, 48)\n"
     ]
    },
    {
     "data": {
      "text/plain": [
       "<matplotlib.image.AxesImage at 0x7febada7cc40>"
      ]
     },
     "execution_count": 74,
     "metadata": {},
     "output_type": "execute_result"
    },
    {
     "data": {
      "image/png": "[encoded data removed]",
      "text/plain": [
       "<Figure size 640x480 with 1 Axes>"
      ]
     },
     "metadata": {},
     "output_type": "display_data"
    }
   ],
   "source": [
    "land = recentered[:, :, :12, 12:-12]\n",
    "print(land.shape)\n",
    "plt.imshow(mask(land[0,0]))"
   ]
  },
  {
   "cell_type": "code",
   "execution_count": null,
   "id": "551e3c2c-51fc-4d70-96c1-e1a17d79143f",
   "metadata": {},
   "outputs": [],
   "source": []
  }
 ],
 "metadata": {
  "kernelspec": {
   "display_name": "Python 3 (ipykernel)",
   "language": "python",
   "name": "python3"
  },
  "language_info": {
   "codemirror_mode": {
    "name": "ipython",
    "version": 3
   },
   "file_extension": ".py",
   "mimetype": "text/x-python",
   "name": "python",
   "nbconvert_exporter": "python",
   "pygments_lexer": "ipython3",
   "version": "3.8.10"
  }
 },
 "nbformat": 4,
 "nbformat_minor": 5
}
