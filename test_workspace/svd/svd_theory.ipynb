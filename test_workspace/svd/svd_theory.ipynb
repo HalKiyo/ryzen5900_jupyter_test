{
 "cells": [
  {
   "cell_type": "code",
   "execution_count": 1,
   "id": "1965b864-9f35-49bc-9794-84bbffbc6296",
   "metadata": {},
   "outputs": [],
   "source": [
    "import numpy as np\n",
    "import matplotlib.pyplot as plt\n",
    "from scipy import signal"
   ]
  },
  {
   "cell_type": "code",
   "execution_count": 2,
   "id": "551efb36-6377-431c-ab1f-04ecd0d5ea67",
   "metadata": {},
   "outputs": [
    {
     "name": "stdout",
     "output_type": "stream",
     "text": [
      "[[1 2 3]\n",
      " [4 5 6]]\n"
     ]
    }
   ],
   "source": [
    "X =  np.array([[1,2,3], [4,5,6]])\n",
    "print(X)"
   ]
  },
  {
   "cell_type": "code",
   "execution_count": 3,
   "id": "ae9af7ce-38cf-45bd-9be5-06b15242fc96",
   "metadata": {},
   "outputs": [
    {
     "name": "stdout",
     "output_type": "stream",
     "text": [
      "(2, 2) (3, 3)\n"
     ]
    }
   ],
   "source": [
    "# S is vector which containes sorted singular values\n",
    "U, S, VT = np.linalg.svd(X)\n",
    "V = VT.T\n",
    "Sigma = np.zeros(X.shape)\n",
    "for ss in range(0, S.shape[0]):\n",
    "    Sigma[ss, ss] = S[ss]\n",
    "print(U.shape, VT.shape)"
   ]
  },
  {
   "cell_type": "code",
   "execution_count": 5,
   "id": "d58bb093-3c2a-4003-8504-393b966d4146",
   "metadata": {},
   "outputs": [],
   "source": [
    "X_SVD = U@Sigma@V.T"
   ]
  },
  {
   "cell_type": "code",
   "execution_count": 7,
   "id": "c1c025dc-9139-4faf-8ce0-eff5dfe7db77",
   "metadata": {},
   "outputs": [
    {
     "name": "stdout",
     "output_type": "stream",
     "text": [
      "[[1. 2. 3.]\n",
      " [4. 5. 6.]]\n"
     ]
    }
   ],
   "source": [
    "print(X_SVD)"
   ]
  },
  {
   "cell_type": "code",
   "execution_count": 8,
   "id": "f7318c1f-3137-4883-bb84-9afbbf198e95",
   "metadata": {},
   "outputs": [
    {
     "name": "stdout",
     "output_type": "stream",
     "text": [
      "[[-0.3863177  -0.92236578]\n",
      " [-0.92236578  0.3863177 ]]\n"
     ]
    }
   ],
   "source": [
    "print(U)"
   ]
  },
  {
   "cell_type": "code",
   "execution_count": 10,
   "id": "fd743322-f13f-4e6f-98df-acd9ef840635",
   "metadata": {},
   "outputs": [
    {
     "name": "stdout",
     "output_type": "stream",
     "text": [
      "[[-0.3863177  -0.92236578]\n",
      " [-0.92236578  0.3863177 ]]\n"
     ]
    }
   ],
   "source": [
    "[Lam, E] = np.linalg.eig(X@X.T)\n",
    "Lam = np.real(Lam) # eigen value vector\n",
    "E = np.real(E) # eigen vector matrix\n",
    "index = Lam.argsort()[::-1]\n",
    "Lam = Lam[index]\n",
    "E = E[:, index]\n",
    "L = np.diag(Lam)\n",
    "print(E)"
   ]
  },
  {
   "cell_type": "code",
   "execution_count": 11,
   "id": "125fa641-04b9-4b4a-ada9-dbc0a7027a2f",
   "metadata": {},
   "outputs": [
    {
     "name": "stdout",
     "output_type": "stream",
     "text": [
      "[[9.508032   0.         0.        ]\n",
      " [0.         0.77286964 0.        ]]\n"
     ]
    }
   ],
   "source": [
    "print(Sigma)"
   ]
  },
  {
   "cell_type": "code",
   "execution_count": 12,
   "id": "13fed659-269f-48fa-88de-51c946d055d6",
   "metadata": {},
   "outputs": [
    {
     "name": "stdout",
     "output_type": "stream",
     "text": [
      "[[9.508032   0.        ]\n",
      " [0.         0.77286964]]\n"
     ]
    }
   ],
   "source": [
    "print(np.sqrt(L))"
   ]
  },
  {
   "cell_type": "code",
   "execution_count": 15,
   "id": "c8e30690-a7b7-45b5-89c2-3cd54a3062ab",
   "metadata": {},
   "outputs": [],
   "source": [
    "tokyo_temp = np.genfromtxt(\"Tokyo_temp.csv\", delimiter=\",\", usecols=(0, 1, 2))\n",
    "utsu_temp = np.genfromtxt(\"Utsunomiya_temp.csv\", delimiter=\",\", usecols=(0,1,2))\n",
    "\n",
    "y = tokyo_temp[:,0]\n",
    "m = tokyo_temp[:,1]\n",
    "tokyo = tokyo_temp[:, 2]\n",
    "utsu = utsu_temp[:, 2]\n",
    "\n",
    "tokyo = tokyo[(1990<=y)*(y<=2019)]\n",
    "utsu = utsu[(1990<=y)*(y<=2019)]\n",
    "m = m[(1990<=y)*(y<=2019)]\n",
    "y = y[(1990<=y)*(y<=2019)]\n",
    "\n",
    "tokyoc = np.zeros((12))\n",
    "utsuc = np.zeros((12))\n",
    "\n",
    "for mm in range(1, 13):\n",
    "    tokyoc[mm-1] = np.nanmean(tokyo[m==mm], 0)\n",
    "    utsuc[mm-1] = np.nanmean(utsu[m==mm], 0)\n",
    "\n",
    "tokyoa = np.zeros((tokyo.shape))\n",
    "utsua = np.zeros((utsu.shape))\n",
    "for yy in range(1990, 2020):\n",
    "    for mm in range(1, 13):\n",
    "        tokyoa[(y==yy)*(m==mm)] = tokyo[(y==yy)*(m==mm)] - tokyoc[mm-1]\n",
    "        utsua[(y==yy)*(m==mm)] = utsu[(y==yy)*(m==mm)] - utsuc[mm-1]\n",
    "\n",
    "tokyoa = signal.detrend(tokyoa)\n",
    "utsua = signal.detrend(utsua)\n",
    "\n",
    "X = np.array([tokyoa, utsua])"
   ]
  },
  {
   "cell_type": "code",
   "execution_count": 16,
   "id": "8ec18dcf-70c0-42d8-aecb-a3fc4274ef76",
   "metadata": {},
   "outputs": [],
   "source": [
    "N = tokyoa.shape[0]\n",
    "C = X@X.T/N"
   ]
  },
  {
   "cell_type": "code",
   "execution_count": 17,
   "id": "170c8fbd-d2cd-4050-b962-8c7d2d43f6bd",
   "metadata": {},
   "outputs": [
    {
     "name": "stdout",
     "output_type": "stream",
     "text": [
      "[[-0.69771535 -0.7163751 ]\n",
      " [-0.7163751   0.69771535]]\n",
      "[[2.05139247 0.        ]\n",
      " [0.         0.06501294]]\n"
     ]
    }
   ],
   "source": [
    "[Lam, E] = np.linalg.eig(C)\n",
    "index = Lam.argsort()[::-1]\n",
    "Lam = Lam[index]\n",
    "E = E[:, index]\n",
    "L = np.diag(Lam)\n",
    "print(E) # PC時系列を並べた状列\n",
    "print(L) # 対角成分に大きい順に固有値の入った行列"
   ]
  },
  {
   "cell_type": "code",
   "execution_count": 19,
   "id": "be8906c4-0606-4fe1-a3e8-59b55c51d832",
   "metadata": {},
   "outputs": [
    {
     "name": "stdout",
     "output_type": "stream",
     "text": [
      "[[-0.69771535 -0.7163751 ]\n",
      " [-0.7163751   0.69771535]]\n",
      "[[2.05139247 0.        ]\n",
      " [0.         0.06501294]]\n",
      "[[-0.69771535 -0.7163751 ]\n",
      " [-0.7163751   0.69771535]]\n"
     ]
    }
   ],
   "source": [
    "U, S, VT = np.linalg.svd(C)\n",
    "V = VT.T\n",
    "Sigma = np.zeros(C.shape)\n",
    "for ss in range(0, C.shape[0]):\n",
    "    Sigma[ss, ss] = S[ss]\n",
    "print(U)\n",
    "print(Sigma) #特異値を対角状列に並べる\n",
    "print(V) # U=Vになっている"
   ]
  },
  {
   "cell_type": "code",
   "execution_count": 20,
   "id": "9eefd452-3e76-4880-8a22-406b06f50cf1",
   "metadata": {},
   "outputs": [
    {
     "name": "stdout",
     "output_type": "stream",
     "text": [
      "[[-0.69771535 -0.7163751 ]\n",
      " [-0.7163751   0.69771535]]\n"
     ]
    }
   ],
   "source": [
    "U, S, VT = np.linalg.svd(X)\n",
    "V = VT.T\n",
    "Sigma = np.zeros(X.shape)\n",
    "for ss in range(0, X.shape[0]):\n",
    "    Sigma[ss, ss] = S[ss]\n",
    "\n",
    "print(U)"
   ]
  },
  {
   "cell_type": "code",
   "execution_count": 21,
   "id": "d5da5763-9657-4fd6-9fd5-e645f4e02010",
   "metadata": {},
   "outputs": [
    {
     "data": {
      "image/png": "[encoded data removed]",
      "text/plain": [
       "<Figure size 432x288 with 1 Axes>"
      ]
     },
     "metadata": {
      "needs_background": "light"
     },
     "output_type": "display_data"
    },
    {
     "data": {
      "image/png": "[encoded data removed]",
      "text/plain": [
       "<Figure size 432x288 with 1 Axes>"
      ]
     },
     "metadata": {
      "needs_background": "light"
     },
     "output_type": "display_data"
    }
   ],
   "source": [
    "Z = E.T@X\n",
    "pc1_eig = Z[0,:]\n",
    "pc1_eig = pc1_eig/np.std(pc1_eig)\n",
    "pc1_svd = V[:,0]\n",
    "pc1_svd = pc1_svd/np.std(pc1_svd)\n",
    "\n",
    "plt.plot(pc1_eig, 'b')\n",
    "plt.show()\n",
    "plt.plot(pc1_svd, 'r')\n",
    "plt.show()"
   ]
  },
  {
   "cell_type": "code",
   "execution_count": null,
   "id": "c7e6d7f8-8571-429f-b4f8-eb14b2e199ce",
   "metadata": {},
   "outputs": [],
   "source": []
  }
 ],
 "metadata": {
  "kernelspec": {
   "display_name": "Python 3 (ipykernel)",
   "language": "python",
   "name": "python3"
  },
  "language_info": {
   "codemirror_mode": {
    "name": "ipython",
    "version": 3
   },
   "file_extension": ".py",
   "mimetype": "text/x-python",
   "name": "python",
   "nbconvert_exporter": "python",
   "pygments_lexer": "ipython3",
   "version": "3.8.10"
  }
 },
 "nbformat": 4,
 "nbformat_minor": 5
}
