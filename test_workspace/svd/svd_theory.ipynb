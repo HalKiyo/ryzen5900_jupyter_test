{
 "cells": [
  {
   "cell_type": "code",
   "execution_count": 1,
   "id": "1965b864-9f35-49bc-9794-84bbffbc6296",
   "metadata": {},
   "outputs": [],
   "source": [
    "import numpy as np\n",
    "import matplotlib.pyplot as plt\n",
    "from scipy import signal"
   ]
  },
  {
   "cell_type": "code",
   "execution_count": 2,
   "id": "551efb36-6377-431c-ab1f-04ecd0d5ea67",
   "metadata": {},
   "outputs": [
    {
     "name": "stdout",
     "output_type": "stream",
     "text": [
      "[[1 2 3]\n",
      " [4 5 6]]\n"
     ]
    }
   ],
   "source": [
    "X =  np.array([[1,2,3], [4,5,6]])\n",
    "print(X)"
   ]
  },
  {
   "cell_type": "code",
   "execution_count": 4,
   "id": "ae9af7ce-38cf-45bd-9be5-06b15242fc96",
   "metadata": {},
   "outputs": [],
   "source": [
    "# S is vector which containes sorted singular values\n",
    "U, S, VT = np.linalg.svd(X)\n",
    "V = VT.T\n",
    "Sigma = np.zeros(X.shape)\n",
    "for ss in range(0, S.shape[0]):\n",
    "    Sigma[ss, ss] = S[ss]"
   ]
  },
  {
   "cell_type": "code",
   "execution_count": 5,
   "id": "d58bb093-3c2a-4003-8504-393b966d4146",
   "metadata": {},
   "outputs": [],
   "source": [
    "X_SVD = U@Sigma@V.T"
   ]
  },
  {
   "cell_type": "code",
   "execution_count": 7,
   "id": "c1c025dc-9139-4faf-8ce0-eff5dfe7db77",
   "metadata": {},
   "outputs": [
    {
     "name": "stdout",
     "output_type": "stream",
     "text": [
      "[[1. 2. 3.]\n",
      " [4. 5. 6.]]\n"
     ]
    }
   ],
   "source": [
    "print(X_SVD)"
   ]
  },
  {
   "cell_type": "code",
   "execution_count": 8,
   "id": "f7318c1f-3137-4883-bb84-9afbbf198e95",
   "metadata": {},
   "outputs": [
    {
     "name": "stdout",
     "output_type": "stream",
     "text": [
      "[[-0.3863177  -0.92236578]\n",
      " [-0.92236578  0.3863177 ]]\n"
     ]
    }
   ],
   "source": [
    "print(U)"
   ]
  },
  {
   "cell_type": "code",
   "execution_count": 10,
   "id": "fd743322-f13f-4e6f-98df-acd9ef840635",
   "metadata": {},
   "outputs": [
    {
     "name": "stdout",
     "output_type": "stream",
     "text": [
      "[[-0.3863177  -0.92236578]\n",
      " [-0.92236578  0.3863177 ]]\n"
     ]
    }
   ],
   "source": [
    "[Lam, E] = np.linalg.eig(X@X.T)\n",
    "Lam = np.real(Lam) # eigen value vector\n",
    "E = np.real(E) # eigen vector matrix\n",
    "index = Lam.argsort()[::-1]\n",
    "Lam = Lam[index]\n",
    "E = E[:, index]\n",
    "L = np.diag(Lam)\n",
    "print(E)"
   ]
  },
  {
   "cell_type": "code",
   "execution_count": 11,
   "id": "125fa641-04b9-4b4a-ada9-dbc0a7027a2f",
   "metadata": {},
   "outputs": [
    {
     "name": "stdout",
     "output_type": "stream",
     "text": [
      "[[9.508032   0.         0.        ]\n",
      " [0.         0.77286964 0.        ]]\n"
     ]
    }
   ],
   "source": [
    "print(Sigma)"
   ]
  },
  {
   "cell_type": "code",
   "execution_count": 12,
   "id": "13fed659-269f-48fa-88de-51c946d055d6",
   "metadata": {},
   "outputs": [
    {
     "name": "stdout",
     "output_type": "stream",
     "text": [
      "[[9.508032   0.        ]\n",
      " [0.         0.77286964]]\n"
     ]
    }
   ],
   "source": [
    "print(np.sqrt(L))"
   ]
  },
  {
   "cell_type": "code",
   "execution_count": null,
   "id": "c8e30690-a7b7-45b5-89c2-3cd54a3062ab",
   "metadata": {},
   "outputs": [],
   "source": []
  }
 ],
 "metadata": {
  "kernelspec": {
   "display_name": "Python 3 (ipykernel)",
   "language": "python",
   "name": "python3"
  },
  "language_info": {
   "codemirror_mode": {
    "name": "ipython",
    "version": 3
   },
   "file_extension": ".py",
   "mimetype": "text/x-python",
   "name": "python",
   "nbconvert_exporter": "python",
   "pygments_lexer": "ipython3",
   "version": "3.8.10"
  }
 },
 "nbformat": 4,
 "nbformat_minor": 5
}
