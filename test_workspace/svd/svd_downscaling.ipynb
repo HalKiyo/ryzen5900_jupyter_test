{
 "cells": [
  {
   "cell_type": "code",
   "execution_count": 1,
   "id": "5128e2f4-6bcd-4971-8b9f-30d24aaaf335",
   "metadata": {},
   "outputs": [],
   "source": [
    "import numpy as np\n",
    "import matplotlib.pyplot as plt\n",
    "from scipy import signal\n",
    "import math\n",
    "from matplotlib.colors import Normalize"
   ]
  },
  {
   "cell_type": "code",
   "execution_count": null,
   "id": "7d76faac-83bd-4d22-b3cd-40ea2a89ba66",
   "metadata": {},
   "outputs": [],
   "source": [
    "# load the sst and prcp data\n",
    "workdir = '/docker/mnt/d/research/D2/cnn3'\n",
    "sst_path = workdir + '/predictors/predictors_coarse_std_Apr_o'\n",
    "prcp_path = workdir + '/predictant/continuous/"
   ]
  }
 ],
 "metadata": {
  "kernelspec": {
   "display_name": "Python 3 (ipykernel)",
   "language": "python",
   "name": "python3"
  },
  "language_info": {
   "codemirror_mode": {
    "name": "ipython",
    "version": 3
   },
   "file_extension": ".py",
   "mimetype": "text/x-python",
   "name": "python",
   "nbconvert_exporter": "python",
   "pygments_lexer": "ipython3",
   "version": "3.8.10"
  }
 },
 "nbformat": 4,
 "nbformat_minor": 5
}
