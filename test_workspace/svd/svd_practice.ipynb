{
 "cells": [
  {
   "cell_type": "code",
   "execution_count": 1,
   "id": "55a1bebc-03b2-4922-81ec-6c383bf15b20",
   "metadata": {},
   "outputs": [],
   "source": [
    "import numpy as np\n",
    "import matplotlib.pyplot as plt\n",
    "from scipy import signal\n",
    "import math\n",
    "from matplotlib.colors import Normalize"
   ]
  },
  {
   "cell_type": "code",
   "execution_count": 2,
   "id": "3572deb9-ac5d-4870-ae4d-d73ffa337aeb",
   "metadata": {},
   "outputs": [],
   "source": [
    "loadfile = 'detrended_ssta_OISST.npz'\n",
    "ssta_dataset = np.load(loadfile)\n",
    "ssta =  ssta['ssta']\n",
    "lon2_sst = ssta_dataset['lon2']\n",
    "lat2_sst = ssta_dataset['lat2']\n",
    "y = ssta_dataset['y']\n",
    "\n",
    "ssta = ssta[:,:,(1982<=y)*(y<=2018)]\n",
    "\n",
    "loadfile = 'slpa_erai.npz'\n",
    "slpa_dataset = np.load(loadfile)\n",
    "slpa = slpa_dataset['slpa']\n",
    "lon2_slp = slpa_dataset['lon2']\n",
    "lat2_slp = slpa_dataset['lat2']\n",
    "y = slpa_dataset['y']\n",
    "m = slpa_dataset['m']\n",
    "slpa = signal.detrend(slpa)\n",
    "\n"
   ]
  }
 ],
 "metadata": {
  "kernelspec": {
   "display_name": "Python 3 (ipykernel)",
   "language": "python",
   "name": "python3"
  },
  "language_info": {
   "codemirror_mode": {
    "name": "ipython",
    "version": 3
   },
   "file_extension": ".py",
   "mimetype": "text/x-python",
   "name": "python",
   "nbconvert_exporter": "python",
   "pygments_lexer": "ipython3",
   "version": "3.8.10"
  }
 },
 "nbformat": 4,
 "nbformat_minor": 5
}
