{
 "cells": [
  {
   "cell_type": "code",
   "execution_count": 2,
   "id": "943ec7f7-92e1-4e82-8a22-a914a029cd8d",
   "metadata": {},
   "outputs": [],
   "source": [
    "import numpy as np\n",
    "\n",
    "loadfile = 'ssta_OISST.npz'\n",
    "ssta_dataset = np.load(loadfile)\n",
    "ssta = ssta_dataset['ssta']\n",
    "lon2 = ssta_dataset['lon2']\n",
    "lat2 = ssta_dataset['lat2']\n",
    "y = ssta_dataset['y']\n",
    "m = ssta_dataset['m']"
   ]
  },
  {
   "cell_type": "code",
   "execution_count": 4,
   "id": "816a8a15-0d38-439d-9264-09f90e0ef372",
   "metadata": {},
   "outputs": [
    {
     "name": "stdout",
     "output_type": "stream",
     "text": [
      "0\n",
      "30\n",
      "60\n",
      "90\n",
      "120\n",
      "150\n",
      "180\n",
      "210\n",
      "240\n",
      "270\n",
      "300\n",
      "330\n"
     ]
    }
   ],
   "source": [
    "[imt, jmt, tmt] = ssta.shape\n",
    "\n",
    "a_ssta = np.zeros((imt, jmt))\n",
    "b_ssta = np.zeros((imt, jmt))\n",
    "detrended_ssta = np.zeros((imt, jmt, tmt))\n",
    "\n",
    "mon = np.arange(1982, 2020, 1/12)\n",
    "\n",
    "is_land_grids_3D = (np.isnan(ssta)==True)\n",
    "ssta[is_land_grids_3D]=0\n",
    "\n",
    "for ii in range(0, imt):\n",
    "    for jj in range(0, jmt):\n",
    "        [a_ssta[ii, jj], b_ssta[ii, jj]] = np.polyfit(mon, ssta[ii, jj, :], 1)\n",
    "        detrended_ssta[ii, jj, :] = ssta[ii, jj, :] - (a_ssta[ii, jj]*mon + b_ssta[ii, jj])\n",
    "    if (ii%30 == 0):\n",
    "        print(ii)\n",
    "is_land_grids_2D = np.squeeze(is_land_grids_3D[:,:,0])\n",
    "a_ssta[is_land_grids_2D] = np.nan\n",
    "b_ssta[is_land_grids_2D] = np.nan\n",
    "detrended_ssta[is_land_grids_2D] = np.nan"
   ]
  },
  {
   "cell_type": "code",
   "execution_count": 5,
   "id": "37cfbccb-b845-4150-aa72-361f12ec3254",
   "metadata": {},
   "outputs": [],
   "source": [
    "savefile = 'detrended_ssta_OISST.npz'\n",
    "np.savez(savefile, ssta=detrended_ssta, lon2=lon2, lat2=lat2, y=y, m=m)"
   ]
  },
  {
   "cell_type": "code",
   "execution_count": null,
   "id": "766d3eac-2e5f-4255-884f-9fb6619b77fe",
   "metadata": {},
   "outputs": [],
   "source": []
  }
 ],
 "metadata": {
  "kernelspec": {
   "display_name": "Python 3 (ipykernel)",
   "language": "python",
   "name": "python3"
  },
  "language_info": {
   "codemirror_mode": {
    "name": "ipython",
    "version": 3
   },
   "file_extension": ".py",
   "mimetype": "text/x-python",
   "name": "python",
   "nbconvert_exporter": "python",
   "pygments_lexer": "ipython3",
   "version": "3.8.10"
  }
 },
 "nbformat": 4,
 "nbformat_minor": 5
}
